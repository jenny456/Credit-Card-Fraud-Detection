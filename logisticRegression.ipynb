{
 "cells": [
  {
   "cell_type": "code",
   "execution_count": 5,
   "metadata": {},
   "outputs": [],
   "source": [
    "import numpy as np\n",
    "import sklearn as sk\n",
    "import pandas as pd\n",
    "import matplotlib.pyplot as plt\n",
    "from pandas_ml import ConfusionMatrix\n",
    "import pandas_ml as pdml\n",
    "from sklearn.preprocessing import scale\n",
    "import random"
   ]
  },
  {
   "cell_type": "code",
   "execution_count": 6,
   "metadata": {},
   "outputs": [
    {
     "data": {
      "text/html": [
       "<div>\n",
       "<style scoped>\n",
       "    .dataframe tbody tr th:only-of-type {\n",
       "        vertical-align: middle;\n",
       "    }\n",
       "\n",
       "    .dataframe tbody tr th {\n",
       "        vertical-align: top;\n",
       "    }\n",
       "\n",
       "    .dataframe thead th {\n",
       "        text-align: right;\n",
       "    }\n",
       "</style>\n",
       "<table border=\"1\" class=\"dataframe\">\n",
       "  <thead>\n",
       "    <tr style=\"text-align: right;\">\n",
       "      <th></th>\n",
       "      <th>Time</th>\n",
       "      <th>V1</th>\n",
       "      <th>V2</th>\n",
       "      <th>V3</th>\n",
       "      <th>V4</th>\n",
       "      <th>V5</th>\n",
       "      <th>V6</th>\n",
       "      <th>V7</th>\n",
       "      <th>V8</th>\n",
       "      <th>V9</th>\n",
       "      <th>...</th>\n",
       "      <th>V21</th>\n",
       "      <th>V22</th>\n",
       "      <th>V23</th>\n",
       "      <th>V24</th>\n",
       "      <th>V25</th>\n",
       "      <th>V26</th>\n",
       "      <th>V27</th>\n",
       "      <th>V28</th>\n",
       "      <th>Amount</th>\n",
       "      <th>Class</th>\n",
       "    </tr>\n",
       "  </thead>\n",
       "  <tbody>\n",
       "    <tr>\n",
       "      <th>0</th>\n",
       "      <td>23655.0</td>\n",
       "      <td>1.048723</td>\n",
       "      <td>-0.281026</td>\n",
       "      <td>0.559724</td>\n",
       "      <td>1.094666</td>\n",
       "      <td>0.117198</td>\n",
       "      <td>1.595472</td>\n",
       "      <td>-0.777608</td>\n",
       "      <td>0.375995</td>\n",
       "      <td>1.882155</td>\n",
       "      <td>...</td>\n",
       "      <td>-0.014831</td>\n",
       "      <td>0.192375</td>\n",
       "      <td>-0.341477</td>\n",
       "      <td>-1.744970</td>\n",
       "      <td>0.573175</td>\n",
       "      <td>-0.169795</td>\n",
       "      <td>0.034638</td>\n",
       "      <td>0.012084</td>\n",
       "      <td>86.60</td>\n",
       "      <td>0</td>\n",
       "    </tr>\n",
       "    <tr>\n",
       "      <th>1</th>\n",
       "      <td>160200.0</td>\n",
       "      <td>1.989283</td>\n",
       "      <td>-0.441792</td>\n",
       "      <td>0.164046</td>\n",
       "      <td>0.357568</td>\n",
       "      <td>-1.041894</td>\n",
       "      <td>-0.509930</td>\n",
       "      <td>-0.847575</td>\n",
       "      <td>-0.015956</td>\n",
       "      <td>1.279815</td>\n",
       "      <td>...</td>\n",
       "      <td>0.037405</td>\n",
       "      <td>0.319792</td>\n",
       "      <td>0.320162</td>\n",
       "      <td>0.092255</td>\n",
       "      <td>-0.573188</td>\n",
       "      <td>0.477399</td>\n",
       "      <td>-0.005957</td>\n",
       "      <td>-0.037567</td>\n",
       "      <td>1.00</td>\n",
       "      <td>0</td>\n",
       "    </tr>\n",
       "    <tr>\n",
       "      <th>2</th>\n",
       "      <td>155138.0</td>\n",
       "      <td>-3.061419</td>\n",
       "      <td>2.105596</td>\n",
       "      <td>-1.036532</td>\n",
       "      <td>0.805934</td>\n",
       "      <td>0.061004</td>\n",
       "      <td>-0.403649</td>\n",
       "      <td>0.350054</td>\n",
       "      <td>1.016494</td>\n",
       "      <td>-0.984207</td>\n",
       "      <td>...</td>\n",
       "      <td>0.076445</td>\n",
       "      <td>0.251194</td>\n",
       "      <td>-0.558939</td>\n",
       "      <td>-0.356169</td>\n",
       "      <td>1.302679</td>\n",
       "      <td>-0.191992</td>\n",
       "      <td>-0.216885</td>\n",
       "      <td>-0.232026</td>\n",
       "      <td>20.22</td>\n",
       "      <td>0</td>\n",
       "    </tr>\n",
       "    <tr>\n",
       "      <th>3</th>\n",
       "      <td>143005.0</td>\n",
       "      <td>-2.777881</td>\n",
       "      <td>3.013665</td>\n",
       "      <td>-2.680859</td>\n",
       "      <td>-0.636342</td>\n",
       "      <td>-0.787523</td>\n",
       "      <td>-1.142648</td>\n",
       "      <td>-0.653469</td>\n",
       "      <td>1.822381</td>\n",
       "      <td>0.307979</td>\n",
       "      <td>...</td>\n",
       "      <td>-0.322151</td>\n",
       "      <td>-1.008189</td>\n",
       "      <td>0.315580</td>\n",
       "      <td>0.537077</td>\n",
       "      <td>-0.099494</td>\n",
       "      <td>0.104214</td>\n",
       "      <td>-0.170954</td>\n",
       "      <td>-0.163253</td>\n",
       "      <td>11.99</td>\n",
       "      <td>0</td>\n",
       "    </tr>\n",
       "    <tr>\n",
       "      <th>4</th>\n",
       "      <td>64336.0</td>\n",
       "      <td>-1.259152</td>\n",
       "      <td>-0.487136</td>\n",
       "      <td>2.386151</td>\n",
       "      <td>-0.567041</td>\n",
       "      <td>0.064334</td>\n",
       "      <td>0.660929</td>\n",
       "      <td>-0.876044</td>\n",
       "      <td>0.418149</td>\n",
       "      <td>1.303231</td>\n",
       "      <td>...</td>\n",
       "      <td>-0.029078</td>\n",
       "      <td>0.418090</td>\n",
       "      <td>-0.420255</td>\n",
       "      <td>-0.344435</td>\n",
       "      <td>-0.374592</td>\n",
       "      <td>0.936623</td>\n",
       "      <td>-0.050626</td>\n",
       "      <td>0.130630</td>\n",
       "      <td>12.67</td>\n",
       "      <td>0</td>\n",
       "    </tr>\n",
       "  </tbody>\n",
       "</table>\n",
       "<p>5 rows × 31 columns</p>\n",
       "</div>"
      ],
      "text/plain": [
       "       Time        V1        V2        V3        V4        V5        V6  \\\n",
       "0   23655.0  1.048723 -0.281026  0.559724  1.094666  0.117198  1.595472   \n",
       "1  160200.0  1.989283 -0.441792  0.164046  0.357568 -1.041894 -0.509930   \n",
       "2  155138.0 -3.061419  2.105596 -1.036532  0.805934  0.061004 -0.403649   \n",
       "3  143005.0 -2.777881  3.013665 -2.680859 -0.636342 -0.787523 -1.142648   \n",
       "4   64336.0 -1.259152 -0.487136  2.386151 -0.567041  0.064334  0.660929   \n",
       "\n",
       "         V7        V8        V9  ...         V21       V22       V23  \\\n",
       "0 -0.777608  0.375995  1.882155  ...   -0.014831  0.192375 -0.341477   \n",
       "1 -0.847575 -0.015956  1.279815  ...    0.037405  0.319792  0.320162   \n",
       "2  0.350054  1.016494 -0.984207  ...    0.076445  0.251194 -0.558939   \n",
       "3 -0.653469  1.822381  0.307979  ...   -0.322151 -1.008189  0.315580   \n",
       "4 -0.876044  0.418149  1.303231  ...   -0.029078  0.418090 -0.420255   \n",
       "\n",
       "        V24       V25       V26       V27       V28  Amount  Class  \n",
       "0 -1.744970  0.573175 -0.169795  0.034638  0.012084   86.60      0  \n",
       "1  0.092255 -0.573188  0.477399 -0.005957 -0.037567    1.00      0  \n",
       "2 -0.356169  1.302679 -0.191992 -0.216885 -0.232026   20.22      0  \n",
       "3  0.537077 -0.099494  0.104214 -0.170954 -0.163253   11.99      0  \n",
       "4 -0.344435 -0.374592  0.936623 -0.050626  0.130630   12.67      0  \n",
       "\n",
       "[5 rows x 31 columns]"
      ]
     },
     "execution_count": 6,
     "metadata": {},
     "output_type": "execute_result"
    }
   ],
   "source": [
    "df=pd.read_csv('creditcard.csv')\n",
    "df=df.sample(frac=1).reset_index(drop=True)\n",
    "df.head()"
   ]
  },
  {
   "cell_type": "code",
   "execution_count": 7,
   "metadata": {},
   "outputs": [
    {
     "name": "stdout",
     "output_type": "stream",
     "text": [
      "We have 492 fraud data points and 284315 nonfraudulent data points.\n"
     ]
    }
   ],
   "source": [
    "frauds = df.loc[df['Class'] == 1]\n",
    "non_frauds = df.loc[df['Class'] == 0]\n",
    "print(\"We have\", len(frauds), \"fraud data points and\", len(non_frauds), \"nonfraudulent data points.\")"
   ]
  },
  {
   "cell_type": "code",
   "execution_count": 8,
   "metadata": {},
   "outputs": [
    {
     "data": {
      "image/png": "[encoded data removed]",
      "text/plain": [
       "<Figure size 432x288 with 1 Axes>"
      ]
     },
     "metadata": {
      "needs_background": "light"
     },
     "output_type": "display_data"
    },
    {
     "name": "stdout",
     "output_type": "stream",
     "text": [
      "This feature looks important based on their distribution with respect to class.\n",
      "We will now zoom in onto the fraud data to see the ranges of amount just for fun.\n"
     ]
    }
   ],
   "source": [
    "ax = frauds.plot.scatter(x='Amount', y='Class', color='Orange', label='Fraud')\n",
    "non_frauds.plot.scatter(x='Amount', y='Class', color='Blue', label='Normal', ax=ax)\n",
    "plt.show()\n",
    "print(\"This feature looks important based on their distribution with respect to class.\")\n",
    "print(\"We will now zoom in onto the fraud data to see the ranges of amount just for fun.\")"
   ]
  },
  {
   "cell_type": "code",
   "execution_count": 9,
   "metadata": {},
   "outputs": [
    {
     "data": {
      "image/png": "[encoded data removed]",
      "text/plain": [
       "<Figure size 432x288 with 1 Axes>"
      ]
     },
     "metadata": {
      "needs_background": "light"
     },
     "output_type": "display_data"
    }
   ],
   "source": [
    "bx = frauds.plot.scatter(x='Amount', y='Class', color='Orange', label='Fraud')\n",
    "plt.show()"
   ]
  },
  {
   "cell_type": "code",
   "execution_count": 10,
   "metadata": {},
   "outputs": [
    {
     "data": {
      "image/png": "[encoded data removed]",
      "text/plain": [
       "<Figure size 432x288 with 1 Axes>"
      ]
     },
     "metadata": {
      "needs_background": "light"
     },
     "output_type": "display_data"
    },
    {
     "name": "stdout",
     "output_type": "stream",
     "text": [
      "This feature may not be very important because of the similar distribution.\n"
     ]
    }
   ],
   "source": [
    "ax =frauds.plot.scatter(x='V22', y='Class', color='Orange', label='Fraud')\n",
    "non_frauds.plot.scatter(x='V22', y='Class', color='Blue', label='Normal', ax=ax)\n",
    "plt.show()\n",
    "print(\"This feature may not be very important because of the similar distribution.\")"
   ]
  },
  {
   "cell_type": "markdown",
   "metadata": {},
   "source": [
    "# Logistic Regression\n"
   ]
  },
  {
   "cell_type": "code",
   "execution_count": 11,
   "metadata": {},
   "outputs": [],
   "source": [
    "from sklearn import datasets,linear_model\n",
    "from sklearn.preprocessing import PolynomialFeatures\n",
    "from sklearn.model_selection import train_test_split"
   ]
  },
  {
   "cell_type": "code",
   "execution_count": 12,
   "metadata": {},
   "outputs": [],
   "source": [
    "X=df.iloc[:,:-1]\n",
    "y=df['Class']\n",
    "X_train, X_test, y_train, y_test = train_test_split(X, y, test_size=0.35)\n"
   ]
  },
  {
   "cell_type": "code",
   "execution_count": 13,
   "metadata": {},
   "outputs": [
    {
     "name": "stdout",
     "output_type": "stream",
     "text": [
      "X and y sizes, respectively: 284807 284807\n",
      "Train and test sizes, respectively: 185124 185124 | 99683 99683\n",
      "Total number of frauds: 492 0.001727485630620034\n",
      "Number of frauds on y_test: 159 0.00159505632856154\n",
      "Number of frauds on y_train: 333 0.001798794321643871\n"
     ]
    }
   ],
   "source": [
    "print(\"X and y sizes, respectively:\", len(X), len(y))\n",
    "print(\"Train and test sizes, respectively:\", len(X_train), len(y_train), \"|\", len(X_test), len(y_test))\n",
    "print(\"Total number of frauds:\", len(y.loc[df['Class'] == 1]), len(y.loc[df['Class'] == 1])/len(y))\n",
    "print(\"Number of frauds on y_test:\", len(y_test.loc[df['Class'] == 1]), len(y_test.loc[df['Class'] == 1]) / len(y_test))\n",
    "print(\"Number of frauds on y_train:\", len(y_train.loc[df['Class'] == 1]), len(y_train.loc[df['Class'] == 1])/len(y_train))"
   ]
  },
  {
   "cell_type": "code",
   "execution_count": 14,
   "metadata": {},
   "outputs": [
    {
     "name": "stderr",
     "output_type": "stream",
     "text": [
      "c:\\users\\jenisha\\appdata\\local\\programs\\python\\python36\\lib\\site-packages\\sklearn\\linear_model\\logistic.py:432: FutureWarning: Default solver will be changed to 'lbfgs' in 0.22. Specify a solver to silence this warning.\n",
      "  FutureWarning)\n"
     ]
    },
    {
     "name": "stdout",
     "output_type": "stream",
     "text": [
      "score: 0.9989065337118667\n"
     ]
    }
   ],
   "source": [
    "logistic = linear_model.LogisticRegression(C=1e5)\n",
    "logistic.fit(X_train,y_train)\n",
    "print(\"score:\",logistic.score(X_test,y_test))"
   ]
  },
  {
   "cell_type": "code",
   "execution_count": 15,
   "metadata": {},
   "outputs": [],
   "source": [
    "y_predicted = np.array(logistic.predict(X_test))\n",
    "y_right = np.array(y_test)"
   ]
  },
  {
   "cell_type": "code",
   "execution_count": 16,
   "metadata": {},
   "outputs": [
    {
     "name": "stdout",
     "output_type": "stream",
     "text": [
      "Confusion matrix:\n",
      "Predicted  False  True  __all__\n",
      "Actual                         \n",
      "False      99474    50    99524\n",
      "True          59   100      159\n",
      "__all__    99533   150    99683\n"
     ]
    },
    {
     "data": {
      "image/png": "[encoded data removed]",
      "text/plain": [
       "<Figure size 648x576 with 2 Axes>"
      ]
     },
     "metadata": {
      "needs_background": "light"
     },
     "output_type": "display_data"
    },
    {
     "name": "stdout",
     "output_type": "stream",
     "text": [
      "population: 99683\n",
      "P: 159\n",
      "N: 99524\n",
      "PositiveTest: 150\n",
      "NegativeTest: 99533\n",
      "TP: 100\n",
      "TN: 99474\n",
      "FP: 50\n",
      "FN: 59\n",
      "TPR: 0.6289308176100629\n",
      "TNR: 0.999497608617017\n",
      "PPV: 0.6666666666666666\n",
      "NPV: 0.999407231772377\n",
      "FPR: 0.0005023913829829991\n",
      "FDR: 0.3333333333333333\n",
      "FNR: 0.3710691823899371\n",
      "ACC: 0.9989065337118667\n",
      "F1_score: 0.6472491909385113\n",
      "MCC: 0.6469774120840572\n",
      "informedness: 0.6284284262270798\n",
      "markedness: 0.6660738984390435\n",
      "prevalence: 0.00159505632856154\n",
      "LRP: 1251.874213836478\n",
      "LRN: 0.37125569805352254\n",
      "DOR: 3372.0\n",
      "FOR: 0.0005927682276229994\n"
     ]
    }
   ],
   "source": [
    "confusion_matrix = ConfusionMatrix(y_right, y_predicted)\n",
    "print(\"Confusion matrix:\\n%s\" % confusion_matrix)\n",
    "confusion_matrix.plot(normalized=True)\n",
    "plt.show()\n",
    "confusion_matrix.print_stats()"
   ]
  },
  {
   "cell_type": "markdown",
   "metadata": {},
   "source": [
    "# Logistic Regression with SMOTE over-sampling"
   ]
  },
  {
   "cell_type": "code",
   "execution_count": 17,
   "metadata": {},
   "outputs": [
    {
     "name": "stdout",
     "output_type": "stream",
     "text": [
      "Size of training set after over sampling: 369582\n"
     ]
    }
   ],
   "source": [
    "df2 = pdml.ModelFrame(X_train, target=y_train)\n",
    "sampler = df2.imbalance.over_sampling.SMOTE()\n",
    "sampled = df2.fit_sample(sampler)\n",
    "print(\"Size of training set after over sampling:\", len(sampled))"
   ]
  },
  {
   "cell_type": "code",
   "execution_count": 18,
   "metadata": {},
   "outputs": [
    {
     "name": "stderr",
     "output_type": "stream",
     "text": [
      "c:\\users\\jenisha\\appdata\\local\\programs\\python\\python36\\lib\\site-packages\\sklearn\\linear_model\\logistic.py:432: FutureWarning: Default solver will be changed to 'lbfgs' in 0.22. Specify a solver to silence this warning.\n",
      "  FutureWarning)\n"
     ]
    },
    {
     "name": "stdout",
     "output_type": "stream",
     "text": [
      "Score:  0.9850124895920067\n"
     ]
    }
   ],
   "source": [
    "X_train_sampled = sampled.iloc[:,1:]\n",
    "y_train_sampled = sampled['Class']\n",
    "\n",
    "# NOTE: Scaling makes it worse.\n",
    "# X_train_sampled = scale(X_train_sampled)\n",
    "\n",
    "logistic = linear_model.LogisticRegression(C=1e5)\n",
    "logistic.fit(X_train_sampled, y_train_sampled)\n",
    "print(\"Score: \", logistic.score(X_test, y_test))"
   ]
  },
  {
   "cell_type": "code",
   "execution_count": 19,
   "metadata": {},
   "outputs": [
    {
     "name": "stdout",
     "output_type": "stream",
     "text": [
      "Confusion matrix:\n",
      "Predicted  False  True  __all__\n",
      "Actual                         \n",
      "False      98049  1475    99524\n",
      "True          19   140      159\n",
      "__all__    98068  1615    99683\n"
     ]
    },
    {
     "data": {
      "image/png": "[encoded data removed]",
      "text/plain": [
       "<Figure size 648x576 with 2 Axes>"
      ]
     },
     "metadata": {
      "needs_background": "light"
     },
     "output_type": "display_data"
    },
    {
     "name": "stdout",
     "output_type": "stream",
     "text": [
      "population: 99683\n",
      "P: 159\n",
      "N: 99524\n",
      "PositiveTest: 1615\n",
      "NegativeTest: 98068\n",
      "TP: 140\n",
      "TN: 98049\n",
      "FP: 1475\n",
      "FN: 19\n",
      "TPR: 0.8805031446540881\n",
      "TNR: 0.9851794542020015\n",
      "PPV: 0.08668730650154799\n",
      "NPV: 0.9998062568829792\n",
      "FPR: 0.014820545797998472\n",
      "FDR: 0.913312693498452\n",
      "FNR: 0.11949685534591195\n",
      "ACC: 0.9850124895920067\n",
      "F1_score: 0.15783540022547915\n",
      "MCC: 0.2736347432893736\n",
      "informedness: 0.8656825988560897\n",
      "markedness: 0.08649356338452718\n",
      "prevalence: 0.00159505632856154\n",
      "LRP: 59.41097963969727\n",
      "LRN: 0.12129450612904305\n",
      "DOR: 489.8076717216771\n",
      "FOR: 0.0001937431170208427\n"
     ]
    }
   ],
   "source": [
    "y_predicted1 = np.array(logistic.predict(X_test))\n",
    "y_right1 = np.array(y_test)\n",
    "\n",
    "confusion_matrix1 = ConfusionMatrix(y_right1, y_predicted1)\n",
    "print(\"Confusion matrix:\\n%s\" % confusion_matrix1)\n",
    "confusion_matrix1.plot(normalized=True)\n",
    "plt.show()\n",
    "confusion_matrix1.print_stats()"
   ]
  },
  {
   "cell_type": "markdown",
   "metadata": {},
   "source": [
    "# Logistic Regression with Balanced class weights"
   ]
  },
  {
   "cell_type": "code",
   "execution_count": 20,
   "metadata": {},
   "outputs": [
    {
     "name": "stderr",
     "output_type": "stream",
     "text": [
      "c:\\users\\jenisha\\appdata\\local\\programs\\python\\python36\\lib\\site-packages\\sklearn\\linear_model\\logistic.py:432: FutureWarning: Default solver will be changed to 'lbfgs' in 0.22. Specify a solver to silence this warning.\n",
      "  FutureWarning)\n",
      "c:\\users\\jenisha\\appdata\\local\\programs\\python\\python36\\lib\\site-packages\\sklearn\\linear_model\\logistic.py:432: FutureWarning: Default solver will be changed to 'lbfgs' in 0.22. Specify a solver to silence this warning.\n",
      "  FutureWarning)\n",
      "c:\\users\\jenisha\\appdata\\local\\programs\\python\\python36\\lib\\site-packages\\sklearn\\linear_model\\logistic.py:432: FutureWarning: Default solver will be changed to 'lbfgs' in 0.22. Specify a solver to silence this warning.\n",
      "  FutureWarning)\n",
      "c:\\users\\jenisha\\appdata\\local\\programs\\python\\python36\\lib\\site-packages\\sklearn\\linear_model\\logistic.py:432: FutureWarning: Default solver will be changed to 'lbfgs' in 0.22. Specify a solver to silence this warning.\n",
      "  FutureWarning)\n",
      "c:\\users\\jenisha\\appdata\\local\\programs\\python\\python36\\lib\\site-packages\\sklearn\\linear_model\\logistic.py:432: FutureWarning: Default solver will be changed to 'lbfgs' in 0.22. Specify a solver to silence this warning.\n",
      "  FutureWarning)\n",
      "c:\\users\\jenisha\\appdata\\local\\programs\\python\\python36\\lib\\site-packages\\sklearn\\linear_model\\logistic.py:432: FutureWarning: Default solver will be changed to 'lbfgs' in 0.22. Specify a solver to silence this warning.\n",
      "  FutureWarning)\n",
      "c:\\users\\jenisha\\appdata\\local\\programs\\python\\python36\\lib\\site-packages\\sklearn\\linear_model\\logistic.py:432: FutureWarning: Default solver will be changed to 'lbfgs' in 0.22. Specify a solver to silence this warning.\n",
      "  FutureWarning)\n",
      "c:\\users\\jenisha\\appdata\\local\\programs\\python\\python36\\lib\\site-packages\\sklearn\\linear_model\\logistic.py:432: FutureWarning: Default solver will be changed to 'lbfgs' in 0.22. Specify a solver to silence this warning.\n",
      "  FutureWarning)\n",
      "c:\\users\\jenisha\\appdata\\local\\programs\\python\\python36\\lib\\site-packages\\sklearn\\linear_model\\logistic.py:432: FutureWarning: Default solver will be changed to 'lbfgs' in 0.22. Specify a solver to silence this warning.\n",
      "  FutureWarning)\n",
      "c:\\users\\jenisha\\appdata\\local\\programs\\python\\python36\\lib\\site-packages\\sklearn\\linear_model\\logistic.py:432: FutureWarning: Default solver will be changed to 'lbfgs' in 0.22. Specify a solver to silence this warning.\n",
      "  FutureWarning)\n",
      "c:\\users\\jenisha\\appdata\\local\\programs\\python\\python36\\lib\\site-packages\\sklearn\\linear_model\\logistic.py:432: FutureWarning: Default solver will be changed to 'lbfgs' in 0.22. Specify a solver to silence this warning.\n",
      "  FutureWarning)\n",
      "c:\\users\\jenisha\\appdata\\local\\programs\\python\\python36\\lib\\site-packages\\sklearn\\linear_model\\logistic.py:432: FutureWarning: Default solver will be changed to 'lbfgs' in 0.22. Specify a solver to silence this warning.\n",
      "  FutureWarning)\n",
      "c:\\users\\jenisha\\appdata\\local\\programs\\python\\python36\\lib\\site-packages\\sklearn\\linear_model\\logistic.py:432: FutureWarning: Default solver will be changed to 'lbfgs' in 0.22. Specify a solver to silence this warning.\n",
      "  FutureWarning)\n",
      "c:\\users\\jenisha\\appdata\\local\\programs\\python\\python36\\lib\\site-packages\\sklearn\\linear_model\\logistic.py:432: FutureWarning: Default solver will be changed to 'lbfgs' in 0.22. Specify a solver to silence this warning.\n",
      "  FutureWarning)\n",
      "c:\\users\\jenisha\\appdata\\local\\programs\\python\\python36\\lib\\site-packages\\sklearn\\linear_model\\logistic.py:432: FutureWarning: Default solver will be changed to 'lbfgs' in 0.22. Specify a solver to silence this warning.\n",
      "  FutureWarning)\n",
      "c:\\users\\jenisha\\appdata\\local\\programs\\python\\python36\\lib\\site-packages\\sklearn\\linear_model\\logistic.py:432: FutureWarning: Default solver will be changed to 'lbfgs' in 0.22. Specify a solver to silence this warning.\n",
      "  FutureWarning)\n",
      "c:\\users\\jenisha\\appdata\\local\\programs\\python\\python36\\lib\\site-packages\\sklearn\\linear_model\\logistic.py:432: FutureWarning: Default solver will be changed to 'lbfgs' in 0.22. Specify a solver to silence this warning.\n",
      "  FutureWarning)\n",
      "c:\\users\\jenisha\\appdata\\local\\programs\\python\\python36\\lib\\site-packages\\sklearn\\linear_model\\logistic.py:432: FutureWarning: Default solver will be changed to 'lbfgs' in 0.22. Specify a solver to silence this warning.\n",
      "  FutureWarning)\n",
      "c:\\users\\jenisha\\appdata\\local\\programs\\python\\python36\\lib\\site-packages\\sklearn\\linear_model\\logistic.py:432: FutureWarning: Default solver will be changed to 'lbfgs' in 0.22. Specify a solver to silence this warning.\n",
      "  FutureWarning)\n",
      "c:\\users\\jenisha\\appdata\\local\\programs\\python\\python36\\lib\\site-packages\\sklearn\\linear_model\\logistic.py:432: FutureWarning: Default solver will be changed to 'lbfgs' in 0.22. Specify a solver to silence this warning.\n",
      "  FutureWarning)\n"
     ]
    },
    {
     "name": "stdout",
     "output_type": "stream",
     "text": [
      "Best C is 9246.81886772291 with best FNR of 0.10062893081761007.\n"
     ]
    }
   ],
   "source": [
    "best_c, best_fnr = 1, 1\n",
    "for _ in range(20):\n",
    "    c = random.uniform(1, 10000)\n",
    "    logistic = linear_model.LogisticRegression(C=c, class_weight=\"balanced\")\n",
    "    logistic.fit(X_train, y_train)\n",
    "    #print(\"Score: \", logistic.score(X_test, y_test))\n",
    "    y_predicted2 = np.array(logistic.predict(X_test))\n",
    "    y_right2 = np.array(y_test)\n",
    "    confusion_matrix2 = ConfusionMatrix(y_right2, y_predicted2)\n",
    "    #print(\"Confusion matrix:\\n%s\" % confusion_matrix2)\n",
    "    #confusion_matrix2.plot(normalized=True)\n",
    "    #plt.show()\n",
    "    #confusion_matrix2.print_stats()\n",
    "    fnr = confusion_matrix2.stats()['FNR']\n",
    "    if fnr < best_fnr:\n",
    "        best_fnr = fnr\n",
    "        best_c = c\n",
    "print(\"Best C is {0} with best FNR of {1}.\".format(best_c, best_fnr))"
   ]
  },
  {
   "cell_type": "code",
   "execution_count": null,
   "metadata": {},
   "outputs": [],
   "source": []
  }
 ],
 "metadata": {
  "kernelspec": {
   "display_name": "Python 3",
   "language": "python",
   "name": "python3"
  },
  "language_info": {
   "codemirror_mode": {
    "name": "ipython",
    "version": 3
   },
   "file_extension": ".py",
   "mimetype": "text/x-python",
   "name": "python",
   "nbconvert_exporter": "python",
   "pygments_lexer": "ipython3",
   "version": "3.6.5"
  }
 },
 "nbformat": 4,
 "nbformat_minor": 2
}
